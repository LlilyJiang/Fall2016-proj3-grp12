{
 "cells": [
  {
   "cell_type": "code",
   "execution_count": 51,
   "metadata": {
    "collapsed": true
   },
   "outputs": [],
   "source": [
    "import pandas as pd\n",
    "import datetime\n",
    "from sklearn.decomposition import PCA   "
   ]
  },
  {
   "cell_type": "code",
   "execution_count": 58,
   "metadata": {
    "collapsed": true
   },
   "outputs": [],
   "source": [
    "def read_data(filename):\n",
    "    df = pd.read_csv(filename)\n",
    "    df.index = df['0']\n",
    "    df = df.drop(['Unnamed: 0','0'],1)\n",
    "    df.columns = range(0, df.shape[1])\n",
    "    return df\n",
    "\n",
    "data_norm1 = read_data('data_norm1.csv')\n",
    "data_norm2 = read_data('data_norm2.csv')\n",
    "data_conv3 = read_data('data_conv3.csv')\n",
    "data_conv4 = read_data('data_conv4.csv')\n",
    "data_pool5 = read_data('data_pool5.csv')\n",
    "data_conv5 = read_data('data_conv5.csv')\n",
    "data_fc6 = read_data('data_fc6.csv')\n",
    "data_fc7 = read_data('data_fc7.csv')\n",
    "data_fc8 = read_data('data_fc8.csv')\n",
    "data_prob = read_data('data_prob.csv')"
   ]
  },
  {
   "cell_type": "code",
   "execution_count": 78,
   "metadata": {
    "collapsed": false,
    "scrolled": false
   },
   "outputs": [
    {
     "name": "stdout",
     "output_type": "stream",
     "text": [
      "Variance percentage (norm1):\n",
      "0.90967482809\n",
      "Time spent (norm1):\n",
      "0:01:12.440072\n",
      "Variance percentage (norm2):\n",
      "0.90763274125\n",
      "Time spent (norm2):\n",
      "0:00:43.198941\n",
      "Variance percentage (conv3):\n",
      "0.904691530529\n",
      "Time spent (conv3):\n",
      "0:01:10.463014\n",
      "Variance percentage (conv4):\n",
      "0.899332857677\n",
      "Time spent (conv4):\n",
      "0:01:10.777560\n",
      "Variance percentage (conv5):\n",
      "0.944494596227\n",
      "Time spent (conv5):\n",
      "0:00:45.106516\n",
      "Variance percentage (pool5):\n",
      "0.907541690722\n",
      "Time spent (pool5):\n",
      "0:00:12.550062\n",
      "Variance percentage (fc6):\n",
      "0.913539396086\n",
      "Time spent (fc6):\n",
      "0:00:07.760337\n",
      "Variance percentage (fc7):\n",
      "0.958560323765\n",
      "Time spent (fc7):\n",
      "0:00:08.162329\n",
      "Variance percentage (fc8):\n",
      "1.0\n",
      "Time spent (fc8):\n",
      "0:00:01.355367\n",
      "Variance percentage (prob):\n",
      "1.0\n",
      "Time spent (prob):\n",
      "0:00:00.856057\n"
     ]
    }
   ],
   "source": [
    "def select_feature(df,layer_name, n):\n",
    "    starttime = datetime.datetime.now()\n",
    "    pca = PCA(n_components=n)\n",
    "    df_pca = pca.fit_transform(df)\n",
    "    endtime = datetime.datetime.now()\n",
    "    print(\"Variance percentage (\" + layer_name + \"):\" )\n",
    "    print(pca.explained_variance_ratio_.sum())\n",
    "    print(\"Time spent (\" + layer_name + \"):\" )\n",
    "    print(endtime-starttime)\n",
    "    return df_pca\n",
    "\n",
    "data_norm1_pca = select_feature(data_norm1, \"norm1\", 1200)\n",
    "data_norm2_pca = select_feature(data_norm2, \"norm2\", 1200)\n",
    "data_conv3_pca = select_feature(data_conv3, \"conv3\", 1200)\n",
    "data_conv4_pca = select_feature(data_conv4, \"conv4\", 1200)\n",
    "data_conv5_pca = select_feature(data_conv5, \"conv5\", 1500)\n",
    "data_pool5_pca = select_feature(data_pool5, \"pool5\", 1000)\n",
    "data_fc6_pca = select_feature(data_fc6, \"fc6\", 900)\n",
    "data_fc7_pca = select_feature(data_fc7, \"fc7\", 1000)\n",
    "data_fc8_pca = select_feature(data_fc8, \"fc8\", 1000)\n",
    "data_prob_pca = select_feature(data_prob, \"prob\", 1000) "
   ]
  },
  {
   "cell_type": "code",
   "execution_count": 80,
   "metadata": {
    "collapsed": false
   },
   "outputs": [
    {
     "data": {
      "text/plain": [
       "(2000, 1200)"
      ]
     },
     "execution_count": 80,
     "metadata": {},
     "output_type": "execute_result"
    }
   ],
   "source": [
    "data_norm1_pca.shape"
   ]
  },
  {
   "cell_type": "code",
   "execution_count": 81,
   "metadata": {
    "collapsed": true
   },
   "outputs": [],
   "source": [
    "pd.DataFrame(data_norm1_pca).to_csv('data_norm1_pca.csv')\n",
    "pd.DataFrame(data_norm2_pca).to_csv('data_norm2_pca.csv')\n",
    "pd.DataFrame(data_conv3_pca).to_csv('data_conv3_pca.csv')\n",
    "pd.DataFrame(data_conv4_pca).to_csv('data_conv4_pca.csv')\n",
    "pd.DataFrame(data_pool5_pca).to_csv('data_pool5_pca.csv')\n",
    "pd.DataFrame(data_conv5_pca).to_csv('data_conv5_pca.csv')\n",
    "pd.DataFrame(data_fc6_pca).to_csv('data_fc6_pca.csv')\n",
    "pd.DataFrame(data_fc7_pca).to_csv('data_fc7_pca.csv')\n",
    "pd.DataFrame(data_fc8_pca).to_csv('data_fc8_pca.csv')\n",
    "pd.DataFrame(data_prob_pca).to_csv('data_prob_pca.csv')"
   ]
  },
  {
   "cell_type": "code",
   "execution_count": null,
   "metadata": {
    "collapsed": true
   },
   "outputs": [],
   "source": []
  }
 ],
 "metadata": {
  "kernelspec": {
   "display_name": "Python 3",
   "language": "python",
   "name": "python3"
  },
  "language_info": {
   "codemirror_mode": {
    "name": "ipython",
    "version": 3
   },
   "file_extension": ".py",
   "mimetype": "text/x-python",
   "name": "python",
   "nbconvert_exporter": "python",
   "pygments_lexer": "ipython3",
   "version": "3.5.1"
  }
 },
 "nbformat": 4,
 "nbformat_minor": 0
}
