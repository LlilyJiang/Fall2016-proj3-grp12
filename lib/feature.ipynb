{
 "cells": [
  {
   "cell_type": "markdown",
   "metadata": {},
   "source": [
    "Reference:\n",
    "* https://github.com/fede1024/caffe-experiments/blob/master/memo.txt\n",
    "* https://github.com/TZstatsADS/Spr2016-Proj3-Grp3/blob/master/output/extractfeature.ipynb \n",
    "* https://cdn.rawgit.com/TZstatsADS/ADS_Teaching/master/Spring2016/Tutorials/wk7-image_analysis/advanced_image_analysis.html"
   ]
  },
  {
   "cell_type": "markdown",
   "metadata": {},
   "source": [
    "### 0. Input\n",
    "\n",
    "* caffepath indicates the root path of the `caffe` package\n",
    "* inputpath indicates the folder which saves all the training images\n",
    "* inputpath_test indicates the folder which saves all the testing images\n",
    "* outputpath indicates the foler which the features extracted should be saved in"
   ]
  },
  {
   "cell_type": "code",
   "execution_count": 2,
   "metadata": {
    "collapsed": true
   },
   "outputs": [],
   "source": [
    "caffepath = '/Users/YaqingXie/caffe'\n",
    "inputpath = '/Users/YaqingXie/Desktop/3-Applied Data Science/Project3_poodleKFC_train/images'\n",
    "inputpath_test = '/Users/YaqingXie/Desktop/image_new'\n",
    "outputpath = '/Users/YaqingXie/Desktop'"
   ]
  },
  {
   "cell_type": "markdown",
   "metadata": {},
   "source": [
    "### 1. Setup\n",
    "\n",
    "* First, set up Python, `numpy`, `panda`, `datetime` and `matplotlib`."
   ]
  },
  {
   "cell_type": "code",
   "execution_count": 3,
   "metadata": {
    "collapsed": true
   },
   "outputs": [],
   "source": [
    "# set up Python environment: numpy for numerical routines, and matplotlib for plotting\n",
    "import numpy as np\n",
    "import matplotlib.pyplot as plt\n",
    "import pandas as pd\n",
    "import datetime\n",
    "# display plots in this notebook\n",
    "%matplotlib inline\n",
    "\n",
    "# set display defaults\n",
    "plt.rcParams['figure.figsize'] = (10, 10)        # large images\n",
    "plt.rcParams['image.interpolation'] = 'nearest'  # don't interpolate: show square pixels\n",
    "plt.rcParams['image.cmap'] = 'gray'  # use grayscale output rather than a (potentially misleading) color heatmap"
   ]
  },
  {
   "cell_type": "markdown",
   "metadata": {},
   "source": [
    "* Load `caffe`."
   ]
  },
  {
   "cell_type": "code",
   "execution_count": 4,
   "metadata": {
    "collapsed": false
   },
   "outputs": [],
   "source": [
    "# The caffe module needs to be on the Python path;\n",
    "#  we'll add it here explicitly.\n",
    "import sys\n",
    "\n",
    "if not caffepath.endswith('/'):\n",
    "    caffepath = caffepath + '/'\n",
    "if not inputpath.endswith('/'):\n",
    "    inputpath = inputpath + '/'\n",
    "if not inputpath_test.endswith('/'):\n",
    "    inputpath_test = inputpath_test + '/'\n",
    "if not outputpath.endswith('/'):\n",
    "    outputpath = outputpath + '/'\n",
    "\n",
    "caffe_root = caffepath\n",
    "sys.path.insert(0, caffe_root + 'python')\n",
    "\n",
    "import caffe"
   ]
  },
  {
   "cell_type": "markdown",
   "metadata": {},
   "source": [
    "* If needed, download the reference model (\"CaffeNet\", a variant of AlexNet)."
   ]
  },
  {
   "cell_type": "code",
   "execution_count": 5,
   "metadata": {
    "collapsed": false
   },
   "outputs": [
    {
     "name": "stdout",
     "output_type": "stream",
     "text": [
      "CaffeNet found.\n"
     ]
    }
   ],
   "source": [
    "import os\n",
    "if os.path.isfile(caffe_root + 'models/bvlc_reference_caffenet/bvlc_reference_caffenet.caffemodel'):\n",
    "    print('CaffeNet found.')\n",
    "else:\n",
    "    print('Downloading pre-trained CaffeNet model...')\n",
    "    !../scripts/download_model_binary.py ../models/bvlc_reference_caffenet"
   ]
  },
  {
   "cell_type": "markdown",
   "metadata": {},
   "source": [
    "### 2. Load net and set up input preprocessing\n",
    "\n",
    "* Set Caffe to CPU mode and load the net from disk."
   ]
  },
  {
   "cell_type": "code",
   "execution_count": 6,
   "metadata": {
    "collapsed": true
   },
   "outputs": [],
   "source": [
    "caffe.set_mode_cpu()\n",
    "\n",
    "model_def = caffe_root + 'models/bvlc_reference_caffenet/deploy.prototxt'\n",
    "model_weights = caffe_root + 'models/bvlc_reference_caffenet/bvlc_reference_caffenet.caffemodel'\n",
    "\n",
    "net = caffe.Net(model_def,      # defines the structure of the model\n",
    "                model_weights,  # contains the trained weights\n",
    "                caffe.TEST)     # use test mode (e.g., don't perform dropout)"
   ]
  },
  {
   "cell_type": "markdown",
   "metadata": {},
   "source": [
    "* Set up input preprocessing. (We'll use Caffe's `caffe.io.Transformer` to do this, but this step is independent of other parts of Caffe, so any custom preprocessing code may be used).\n",
    "\n",
    "    Our default CaffeNet is configured to take images in BGR format. Values are expected to start in the range [0, 255] and then have the mean ImageNet pixel value subtracted from them. In addition, the channel dimension is expected as the first (_outermost_) dimension.\n",
    "    \n",
    "    As matplotlib will load images with values in the range [0, 1] in RGB format with the channel as the _innermost_ dimension, we are arranging for the needed transformations here."
   ]
  },
  {
   "cell_type": "code",
   "execution_count": 11,
   "metadata": {
    "collapsed": false
   },
   "outputs": [
    {
     "name": "stdout",
     "output_type": "stream",
     "text": [
      "mean-subtracted values: <zip object at 0x1337a3648>\n"
     ]
    }
   ],
   "source": [
    "# load the mean ImageNet image (as distributed with Caffe) for subtraction\n",
    "mu = np.load(caffe_root + 'python/caffe/imagenet/ilsvrc_2012_mean.npy')\n",
    "mu = mu.mean(1).mean(1)  # average over pixels to obtain the mean (BGR) pixel values\n",
    "print('mean-subtracted values:', zip('BGR', mu))\n",
    "\n",
    "# create transformer for the input called 'data'\n",
    "transformer = caffe.io.Transformer({'data': net.blobs['data'].data.shape})\n",
    "\n",
    "transformer.set_transpose('data', (2,0,1))  # move image channels to outermost dimension\n",
    "transformer.set_mean('data', mu)            # subtract the dataset-mean value in each channel\n",
    "transformer.set_raw_scale('data', 255)      # rescale from [0, 1] to [0, 255]\n",
    "transformer.set_channel_swap('data', (2,1,0))  # swap channels from RGB to BGR"
   ]
  },
  {
   "cell_type": "code",
   "execution_count": 12,
   "metadata": {
    "collapsed": true
   },
   "outputs": [],
   "source": [
    "# set the size of the input (we can skip this if we're happy\n",
    "#  with the default; we can also change it later, e.g., for different batch sizes)\n",
    "net.blobs['data'].reshape(1,        # batch size\n",
    "                          3,         # 3-channel (BGR) images\n",
    "                          227, 227)  # image size is 227x227"
   ]
  },
  {
   "cell_type": "markdown",
   "metadata": {},
   "source": [
    "### 3. Feature Extraction"
   ]
  },
  {
   "cell_type": "code",
   "execution_count": 13,
   "metadata": {
    "collapsed": false
   },
   "outputs": [],
   "source": [
    "from os import listdir\n",
    "from os.path import isfile, join\n",
    "name_list = [f for f in listdir(inputpath) if isfile(join(inputpath, f)) and f.endswith('.jpg')]\n",
    "name_list_test = [f for f in listdir(inputpath_test) if isfile(join(inputpath_test, f)) and f.endswith('.jpg')]"
   ]
  },
  {
   "cell_type": "markdown",
   "metadata": {},
   "source": [
    "* Layer fc7 dimensions: (1, 4096, 1, 1) [4096 values]"
   ]
  },
  {
   "cell_type": "code",
   "execution_count": 15,
   "metadata": {
    "collapsed": false
   },
   "outputs": [
    {
     "name": "stdout",
     "output_type": "stream",
     "text": [
      "0:06:59.561504\n",
      "Feature extraction finished.\n"
     ]
    }
   ],
   "source": [
    "a = datetime.datetime.now()\n",
    "i = 0\n",
    "image = caffe.io.load_image(str(inputpath + name_list[i]))\n",
    "net.blobs['data'].data[...] = transformer.preprocess('data', image)\n",
    "net.forward()\n",
    "feature8 = np.reshape(net.blobs['fc7'].data[0], 4096, order='C')\n",
    "for name in name_list[1:]:\n",
    "    image = caffe.io.load_image(str(inputpath + name_list[i]))\n",
    "    net.blobs['data'].data[...] = transformer.preprocess('data', image)\n",
    "    net.forward()\n",
    "    feature8 = np.vstack([feature8,np.reshape(net.blobs['fc7'].data[0], 4096, order='C')])\n",
    "    i += 1\n",
    "b = datetime.datetime.now()\n",
    "print(b-a)\n",
    "print('Feature extraction finished.')"
   ]
  },
  {
   "cell_type": "code",
   "execution_count": 16,
   "metadata": {
    "collapsed": false
   },
   "outputs": [
    {
     "name": "stdout",
     "output_type": "stream",
     "text": [
      "0:08:28.988008\n",
      "Feature extraction finished.\n"
     ]
    }
   ],
   "source": [
    "a1 = datetime.datetime.now()\n",
    "i = 0\n",
    "image = caffe.io.load_image(str(inputpath_test + name_list_test[i]))\n",
    "net.blobs['data'].data[...] = transformer.preprocess('data', image)\n",
    "net.forward()\n",
    "feature8_test = np.reshape(net.blobs['fc7'].data[0], 4096, order='C')\n",
    "for name in name_list_test[1:]:\n",
    "    image = caffe.io.load_image(str(inputpath_test + name_list_test[i]))\n",
    "    net.blobs['data'].data[...] = transformer.preprocess('data', image)\n",
    "    net.forward()\n",
    "    feature8_test = np.vstack([feature8_test,np.reshape(net.blobs['fc7'].data[0], 4096, order='C')])\n",
    "    i += 1\n",
    "b1 = datetime.datetime.now()\n",
    "print(b1-a1)\n",
    "print('Feature extraction finished.')"
   ]
  },
  {
   "cell_type": "code",
   "execution_count": 17,
   "metadata": {
    "collapsed": true
   },
   "outputs": [],
   "source": [
    "data_fc7 = np.column_stack([pd.DataFrame(name_list),feature8])"
   ]
  },
  {
   "cell_type": "code",
   "execution_count": 18,
   "metadata": {
    "collapsed": false
   },
   "outputs": [
    {
     "name": "stdout",
     "output_type": "stream",
     "text": [
      "0:00:00.138026\n"
     ]
    }
   ],
   "source": [
    "a2 = datetime.datetime.now()\n",
    "test_fc7 = np.column_stack([pd.DataFrame(name_list_test),feature8_test])\n",
    "b2 = datetime.datetime.now()\n",
    "print(b2-a2)"
   ]
  },
  {
   "cell_type": "markdown",
   "metadata": {},
   "source": [
    "### 3*. Feature Decomposition"
   ]
  },
  {
   "cell_type": "code",
   "execution_count": 19,
   "metadata": {
    "collapsed": true
   },
   "outputs": [],
   "source": [
    "from sklearn.decomposition import PCA  \n",
    "from sklearn import metrics\n",
    "from sklearn.ensemble import ExtraTreesClassifier"
   ]
  },
  {
   "cell_type": "code",
   "execution_count": 20,
   "metadata": {
    "collapsed": false
   },
   "outputs": [
    {
     "name": "stdout",
     "output_type": "stream",
     "text": [
      "Variance percentage_Training (fc7):\n",
      "0.958560323765\n"
     ]
    }
   ],
   "source": [
    "data_fc7 = pd.DataFrame(data_fc7).drop(0, axis=1)\n",
    "test_fc7 = pd.DataFrame(test_fc7).drop(0, axis=1)\n",
    "\n",
    "pca = PCA(n_components=1000)\n",
    "pca.fit(data_fc7)\n",
    "print(\"Variance percentage_Training (fc7):\" )\n",
    "print(pca.explained_variance_ratio_.sum())"
   ]
  },
  {
   "cell_type": "code",
   "execution_count": 21,
   "metadata": {
    "collapsed": false
   },
   "outputs": [
    {
     "name": "stdout",
     "output_type": "stream",
     "text": [
      "0:00:03.968979\n"
     ]
    }
   ],
   "source": [
    "a3 = datetime.datetime.now()\n",
    "test_fc7_pca = pca.transform(test_fc7)\n",
    "pd.DataFrame(test_fc7_pca).to_csv(outputpath + 'test_fc7_pca.csv')\n",
    "b3 = datetime.datetime.now()\n",
    "print(b3-a3)"
   ]
  },
  {
   "cell_type": "code",
   "execution_count": 26,
   "metadata": {
    "collapsed": false
   },
   "outputs": [
    {
     "name": "stdout",
     "output_type": "stream",
     "text": [
      "Total time spent (fc7):\n",
      "0:08:33.095013\n"
     ]
    }
   ],
   "source": [
    "print(\"Total time spent (fc7):\")\n",
    "print((b1-a1)+(b2-a2)+(b3-a3))"
   ]
  },
  {
   "cell_type": "code",
   "execution_count": null,
   "metadata": {
    "collapsed": true
   },
   "outputs": [],
   "source": []
  }
 ],
 "metadata": {
  "kernelspec": {
   "display_name": "Python 3",
   "language": "python",
   "name": "python3"
  },
  "language_info": {
   "codemirror_mode": {
    "name": "ipython",
    "version": 3
   },
   "file_extension": ".py",
   "mimetype": "text/x-python",
   "name": "python",
   "nbconvert_exporter": "python",
   "pygments_lexer": "ipython3",
   "version": "3.5.1"
  }
 },
 "nbformat": 4,
 "nbformat_minor": 0
}
